{
 "cells": [
  {
   "cell_type": "markdown",
   "metadata": {},
   "source": [
    "Interaction of two Categorical Vars"
   ]
  },
  {
   "cell_type": "code",
   "execution_count": null,
   "metadata": {},
   "outputs": [],
   "source": [
    "using GLM, DataFrames"
   ]
  },
  {
   "cell_type": "code",
   "execution_count": 2,
   "metadata": {},
   "outputs": [
    {
     "data": {
      "text/html": [
       "<table class=\"data-frame\"><thead><tr><th></th><th>y</th><th>intercept</th><th>metal_c</th><th>metal_i</th><th>metal_n</th><th>ingot_r</th><th>metal_ingot</th><th>ingot_1</th><th>ingot_2</th><th>ingot_3</th><th>ingot_4</th><th>ingot_5</th><th>ingot_6</th><th>ingot_7</th><th>i1</th><th>i2</th><th>i3</th><th>i4</th><th>i5</th><th>i6</th><th>i7</th><th>inter0</th><th>inter1</th></tr></thead><tbody><tr><th>1</th><td>72.2</td><td>1</td><td>1</td><td>0</td><td>0</td><td>1</td><td>0_1</td><td>1</td><td>0</td><td>0</td><td>0</td><td>0</td><td>0</td><td>0</td><td>1</td><td>0</td><td>0</td><td>0</td><td>0</td><td>0</td><td>0</td><td>1</td><td>0</td></tr><tr><th>2</th><td>66.4</td><td>1</td><td>1</td><td>0</td><td>0</td><td>2</td><td>0_2</td><td>0</td><td>1</td><td>0</td><td>0</td><td>0</td><td>0</td><td>0</td><td>2</td><td>0</td><td>0</td><td>0</td><td>0</td><td>0</td><td>0</td><td>2</td><td>0</td></tr><tr><th>3</th><td>74.5</td><td>1</td><td>1</td><td>0</td><td>0</td><td>3</td><td>0_3</td><td>0</td><td>0</td><td>1</td><td>0</td><td>0</td><td>0</td><td>0</td><td>3</td><td>0</td><td>0</td><td>0</td><td>0</td><td>0</td><td>0</td><td>3</td><td>0</td></tr><tr><th>4</th><td>67.3</td><td>1</td><td>1</td><td>0</td><td>0</td><td>4</td><td>0_4</td><td>0</td><td>0</td><td>0</td><td>1</td><td>0</td><td>0</td><td>0</td><td>4</td><td>0</td><td>0</td><td>0</td><td>0</td><td>0</td><td>0</td><td>4</td><td>0</td></tr><tr><th>5</th><td>73.2</td><td>1</td><td>1</td><td>0</td><td>0</td><td>5</td><td>0_5</td><td>0</td><td>0</td><td>0</td><td>0</td><td>1</td><td>0</td><td>0</td><td>5</td><td>0</td><td>0</td><td>0</td><td>0</td><td>0</td><td>0</td><td>5</td><td>0</td></tr><tr><th>6</th><td>68.7</td><td>1</td><td>1</td><td>0</td><td>0</td><td>6</td><td>0_6</td><td>0</td><td>0</td><td>0</td><td>0</td><td>0</td><td>1</td><td>0</td><td>6</td><td>0</td><td>0</td><td>0</td><td>0</td><td>0</td><td>0</td><td>6</td><td>0</td></tr><tr><th>7</th><td>69.0</td><td>1</td><td>1</td><td>0</td><td>0</td><td>7</td><td>0_7</td><td>0</td><td>0</td><td>0</td><td>0</td><td>0</td><td>0</td><td>1</td><td>7</td><td>0</td><td>0</td><td>0</td><td>0</td><td>0</td><td>0</td><td>7</td><td>0</td></tr><tr><th>8</th><td>71.9</td><td>1</td><td>0</td><td>1</td><td>0</td><td>1</td><td>0_1</td><td>1</td><td>0</td><td>0</td><td>0</td><td>0</td><td>0</td><td>0</td><td>1</td><td>0</td><td>0</td><td>0</td><td>0</td><td>0</td><td>0</td><td>1</td><td>0</td></tr><tr><th>9</th><td>68.8</td><td>1</td><td>0</td><td>1</td><td>0</td><td>2</td><td>0_2</td><td>0</td><td>1</td><td>0</td><td>0</td><td>0</td><td>0</td><td>0</td><td>2</td><td>0</td><td>0</td><td>0</td><td>0</td><td>0</td><td>0</td><td>2</td><td>0</td></tr><tr><th>10</th><td>82.6</td><td>1</td><td>0</td><td>1</td><td>0</td><td>3</td><td>0_3</td><td>0</td><td>0</td><td>1</td><td>0</td><td>0</td><td>0</td><td>0</td><td>3</td><td>0</td><td>0</td><td>0</td><td>0</td><td>0</td><td>0</td><td>3</td><td>0</td></tr><tr><th>11</th><td>78.1</td><td>1</td><td>0</td><td>1</td><td>0</td><td>4</td><td>0_4</td><td>0</td><td>0</td><td>0</td><td>1</td><td>0</td><td>0</td><td>0</td><td>4</td><td>0</td><td>0</td><td>0</td><td>0</td><td>0</td><td>0</td><td>4</td><td>0</td></tr><tr><th>12</th><td>74.2</td><td>1</td><td>0</td><td>1</td><td>0</td><td>5</td><td>0_5</td><td>0</td><td>0</td><td>0</td><td>0</td><td>1</td><td>0</td><td>0</td><td>5</td><td>0</td><td>0</td><td>0</td><td>0</td><td>0</td><td>0</td><td>5</td><td>0</td></tr><tr><th>13</th><td>70.8</td><td>1</td><td>0</td><td>1</td><td>0</td><td>6</td><td>0_6</td><td>0</td><td>0</td><td>0</td><td>0</td><td>0</td><td>1</td><td>0</td><td>6</td><td>0</td><td>0</td><td>0</td><td>0</td><td>0</td><td>0</td><td>6</td><td>0</td></tr><tr><th>14</th><td>84.9</td><td>1</td><td>0</td><td>1</td><td>0</td><td>7</td><td>0_7</td><td>0</td><td>0</td><td>0</td><td>0</td><td>0</td><td>0</td><td>1</td><td>7</td><td>0</td><td>0</td><td>0</td><td>0</td><td>0</td><td>0</td><td>7</td><td>0</td></tr><tr><th>15</th><td>67.0</td><td>1</td><td>0</td><td>0</td><td>1</td><td>1</td><td>1_1</td><td>1</td><td>0</td><td>0</td><td>0</td><td>0</td><td>0</td><td>0</td><td>0</td><td>1</td><td>0</td><td>0</td><td>0</td><td>0</td><td>0</td><td>0</td><td>0</td></tr><tr><th>16</th><td>67.5</td><td>1</td><td>0</td><td>0</td><td>1</td><td>2</td><td>1_2</td><td>0</td><td>1</td><td>0</td><td>0</td><td>0</td><td>0</td><td>0</td><td>0</td><td>2</td><td>0</td><td>0</td><td>0</td><td>0</td><td>0</td><td>0</td><td>2</td></tr><tr><th>17</th><td>76.0</td><td>1</td><td>0</td><td>0</td><td>1</td><td>3</td><td>1_3</td><td>0</td><td>0</td><td>1</td><td>0</td><td>0</td><td>0</td><td>0</td><td>0</td><td>3</td><td>0</td><td>0</td><td>0</td><td>0</td><td>0</td><td>0</td><td>3</td></tr><tr><th>18</th><td>72.7</td><td>1</td><td>0</td><td>0</td><td>1</td><td>4</td><td>1_4</td><td>0</td><td>0</td><td>0</td><td>1</td><td>0</td><td>0</td><td>0</td><td>0</td><td>4</td><td>0</td><td>0</td><td>0</td><td>0</td><td>0</td><td>0</td><td>4</td></tr><tr><th>19</th><td>73.1</td><td>1</td><td>0</td><td>0</td><td>1</td><td>5</td><td>1_5</td><td>0</td><td>0</td><td>0</td><td>0</td><td>1</td><td>0</td><td>0</td><td>0</td><td>5</td><td>0</td><td>0</td><td>0</td><td>0</td><td>0</td><td>0</td><td>5</td></tr><tr><th>20</th><td>65.8</td><td>1</td><td>0</td><td>0</td><td>1</td><td>6</td><td>1_6</td><td>0</td><td>0</td><td>0</td><td>0</td><td>0</td><td>1</td><td>0</td><td>0</td><td>6</td><td>0</td><td>0</td><td>0</td><td>0</td><td>0</td><td>0</td><td>6</td></tr><tr><th>21</th><td>75.6</td><td>1</td><td>0</td><td>0</td><td>1</td><td>7</td><td>1_7</td><td>0</td><td>0</td><td>0</td><td>0</td><td>0</td><td>0</td><td>1</td><td>0</td><td>7</td><td>0</td><td>0</td><td>0</td><td>0</td><td>0</td><td>0</td><td>7</td></tr></tbody></table>"
      ],
      "text/plain": [
       "21×23 DataFrames.DataFrame\n",
       "│ Row │ y    │ intercept │ metal_c │ metal_i │ metal_n │ ingot_r │ metal_ingot │\n",
       "├─────┼──────┼───────────┼─────────┼─────────┼─────────┼─────────┼─────────────┤\n",
       "│ 1   │ 72.2 │ 1         │ 1       │ 0       │ 0       │ 1       │ \"0_1\"       │\n",
       "│ 2   │ 66.4 │ 1         │ 1       │ 0       │ 0       │ 2       │ \"0_2\"       │\n",
       "│ 3   │ 74.5 │ 1         │ 1       │ 0       │ 0       │ 3       │ \"0_3\"       │\n",
       "│ 4   │ 67.3 │ 1         │ 1       │ 0       │ 0       │ 4       │ \"0_4\"       │\n",
       "│ 5   │ 73.2 │ 1         │ 1       │ 0       │ 0       │ 5       │ \"0_5\"       │\n",
       "│ 6   │ 68.7 │ 1         │ 1       │ 0       │ 0       │ 6       │ \"0_6\"       │\n",
       "│ 7   │ 69.0 │ 1         │ 1       │ 0       │ 0       │ 7       │ \"0_7\"       │\n",
       "│ 8   │ 71.9 │ 1         │ 0       │ 1       │ 0       │ 1       │ \"0_1\"       │\n",
       "│ 9   │ 68.8 │ 1         │ 0       │ 1       │ 0       │ 2       │ \"0_2\"       │\n",
       "│ 10  │ 82.6 │ 1         │ 0       │ 1       │ 0       │ 3       │ \"0_3\"       │\n",
       "│ 11  │ 78.1 │ 1         │ 0       │ 1       │ 0       │ 4       │ \"0_4\"       │\n",
       "│ 12  │ 74.2 │ 1         │ 0       │ 1       │ 0       │ 5       │ \"0_5\"       │\n",
       "│ 13  │ 70.8 │ 1         │ 0       │ 1       │ 0       │ 6       │ \"0_6\"       │\n",
       "│ 14  │ 84.9 │ 1         │ 0       │ 1       │ 0       │ 7       │ \"0_7\"       │\n",
       "│ 15  │ 67.0 │ 1         │ 0       │ 0       │ 1       │ 1       │ \"1_1\"       │\n",
       "│ 16  │ 67.5 │ 1         │ 0       │ 0       │ 1       │ 2       │ \"1_2\"       │\n",
       "│ 17  │ 76.0 │ 1         │ 0       │ 0       │ 1       │ 3       │ \"1_3\"       │\n",
       "│ 18  │ 72.7 │ 1         │ 0       │ 0       │ 1       │ 4       │ \"1_4\"       │\n",
       "│ 19  │ 73.1 │ 1         │ 0       │ 0       │ 1       │ 5       │ \"1_5\"       │\n",
       "│ 20  │ 65.8 │ 1         │ 0       │ 0       │ 1       │ 6       │ \"1_6\"       │\n",
       "│ 21  │ 75.6 │ 1         │ 0       │ 0       │ 1       │ 7       │ \"1_7\"       │\n",
       "\n",
       "│ Row │ ingot_1 │ ingot_2 │ ingot_3 │ ingot_4 │ ingot_5 │ ingot_6 │ ingot_7 │\n",
       "├─────┼─────────┼─────────┼─────────┼─────────┼─────────┼─────────┼─────────┤\n",
       "│ 1   │ 1       │ 0       │ 0       │ 0       │ 0       │ 0       │ 0       │\n",
       "│ 2   │ 0       │ 1       │ 0       │ 0       │ 0       │ 0       │ 0       │\n",
       "│ 3   │ 0       │ 0       │ 1       │ 0       │ 0       │ 0       │ 0       │\n",
       "│ 4   │ 0       │ 0       │ 0       │ 1       │ 0       │ 0       │ 0       │\n",
       "│ 5   │ 0       │ 0       │ 0       │ 0       │ 1       │ 0       │ 0       │\n",
       "│ 6   │ 0       │ 0       │ 0       │ 0       │ 0       │ 1       │ 0       │\n",
       "│ 7   │ 0       │ 0       │ 0       │ 0       │ 0       │ 0       │ 1       │\n",
       "│ 8   │ 1       │ 0       │ 0       │ 0       │ 0       │ 0       │ 0       │\n",
       "│ 9   │ 0       │ 1       │ 0       │ 0       │ 0       │ 0       │ 0       │\n",
       "│ 10  │ 0       │ 0       │ 1       │ 0       │ 0       │ 0       │ 0       │\n",
       "│ 11  │ 0       │ 0       │ 0       │ 1       │ 0       │ 0       │ 0       │\n",
       "│ 12  │ 0       │ 0       │ 0       │ 0       │ 1       │ 0       │ 0       │\n",
       "│ 13  │ 0       │ 0       │ 0       │ 0       │ 0       │ 1       │ 0       │\n",
       "│ 14  │ 0       │ 0       │ 0       │ 0       │ 0       │ 0       │ 1       │\n",
       "│ 15  │ 1       │ 0       │ 0       │ 0       │ 0       │ 0       │ 0       │\n",
       "│ 16  │ 0       │ 1       │ 0       │ 0       │ 0       │ 0       │ 0       │\n",
       "│ 17  │ 0       │ 0       │ 1       │ 0       │ 0       │ 0       │ 0       │\n",
       "│ 18  │ 0       │ 0       │ 0       │ 1       │ 0       │ 0       │ 0       │\n",
       "│ 19  │ 0       │ 0       │ 0       │ 0       │ 1       │ 0       │ 0       │\n",
       "│ 20  │ 0       │ 0       │ 0       │ 0       │ 0       │ 1       │ 0       │\n",
       "│ 21  │ 0       │ 0       │ 0       │ 0       │ 0       │ 0       │ 1       │\n",
       "\n",
       "│ Row │ i1 │ i2 │ i3 │ i4 │ i5 │ i6 │ i7 │ inter0 │ inter1 │\n",
       "├─────┼────┼────┼────┼────┼────┼────┼────┼────────┼────────┤\n",
       "│ 1   │ 1  │ 0  │ 0  │ 0  │ 0  │ 0  │ 0  │ 1      │ 0      │\n",
       "│ 2   │ 2  │ 0  │ 0  │ 0  │ 0  │ 0  │ 0  │ 2      │ 0      │\n",
       "│ 3   │ 3  │ 0  │ 0  │ 0  │ 0  │ 0  │ 0  │ 3      │ 0      │\n",
       "│ 4   │ 4  │ 0  │ 0  │ 0  │ 0  │ 0  │ 0  │ 4      │ 0      │\n",
       "│ 5   │ 5  │ 0  │ 0  │ 0  │ 0  │ 0  │ 0  │ 5      │ 0      │\n",
       "│ 6   │ 6  │ 0  │ 0  │ 0  │ 0  │ 0  │ 0  │ 6      │ 0      │\n",
       "│ 7   │ 7  │ 0  │ 0  │ 0  │ 0  │ 0  │ 0  │ 7      │ 0      │\n",
       "│ 8   │ 1  │ 0  │ 0  │ 0  │ 0  │ 0  │ 0  │ 1      │ 0      │\n",
       "│ 9   │ 2  │ 0  │ 0  │ 0  │ 0  │ 0  │ 0  │ 2      │ 0      │\n",
       "│ 10  │ 3  │ 0  │ 0  │ 0  │ 0  │ 0  │ 0  │ 3      │ 0      │\n",
       "│ 11  │ 4  │ 0  │ 0  │ 0  │ 0  │ 0  │ 0  │ 4      │ 0      │\n",
       "│ 12  │ 5  │ 0  │ 0  │ 0  │ 0  │ 0  │ 0  │ 5      │ 0      │\n",
       "│ 13  │ 6  │ 0  │ 0  │ 0  │ 0  │ 0  │ 0  │ 6      │ 0      │\n",
       "│ 14  │ 7  │ 0  │ 0  │ 0  │ 0  │ 0  │ 0  │ 7      │ 0      │\n",
       "│ 15  │ 0  │ 1  │ 0  │ 0  │ 0  │ 0  │ 0  │ 0      │ 0      │\n",
       "│ 16  │ 0  │ 2  │ 0  │ 0  │ 0  │ 0  │ 0  │ 0      │ 2      │\n",
       "│ 17  │ 0  │ 3  │ 0  │ 0  │ 0  │ 0  │ 0  │ 0      │ 3      │\n",
       "│ 18  │ 0  │ 4  │ 0  │ 0  │ 0  │ 0  │ 0  │ 0      │ 4      │\n",
       "│ 19  │ 0  │ 5  │ 0  │ 0  │ 0  │ 0  │ 0  │ 0      │ 5      │\n",
       "│ 20  │ 0  │ 6  │ 0  │ 0  │ 0  │ 0  │ 0  │ 0      │ 6      │\n",
       "│ 21  │ 0  │ 7  │ 0  │ 0  │ 0  │ 0  │ 0  │ 0      │ 7      │"
      ]
     },
     "execution_count": 2,
     "metadata": {},
     "output_type": "execute_result"
    }
   ],
   "source": [
    "dfd=readtable(\"/mnt/resource/iriadmin/g/Rnd/src/Interactions_DummyVars/exp2.csv\")"
   ]
  },
  {
   "cell_type": "code",
   "execution_count": 14,
   "metadata": {},
   "outputs": [],
   "source": [
    "dfd[:metal_n] = pool(dfd[:metal_n]);"
   ]
  },
  {
   "cell_type": "code",
   "execution_count": 11,
   "metadata": {},
   "outputs": [],
   "source": [
    "dfd[:ingot_r] = pool(dfd[:ingot_r]);"
   ]
  },
  {
   "cell_type": "code",
   "execution_count": 13,
   "metadata": {},
   "outputs": [],
   "source": [
    "dfd[:inter1] = pool(dfd[:inter1]);"
   ]
  },
  {
   "cell_type": "markdown",
   "metadata": {},
   "source": [
    "Interaction"
   ]
  },
  {
   "cell_type": "code",
   "execution_count": 7,
   "metadata": {},
   "outputs": [
    {
     "data": {
      "text/plain": [
       "DataFrames.DataFrameRegressionModel{GLM.LinearModel{GLM.LmResp{Array{Float64,1}},GLM.DensePredQR{Float64}},Array{Float64,2}}\n",
       "\n",
       "Formula: y ~ metal_c + metal_n + ingot_r + metal_n & ingot_r\n",
       "\n",
       "Coefficients:\n",
       "                         Estimate Std.Error   t value Pr(>|t|)\n",
       "metal_c                  -5.71429   2.27695  -2.50963   0.0459\n",
       "metal_n: 0                74.9071   3.22009   23.2624    <1e-6\n",
       "metal_n: 1                   67.0   4.25978   15.7285    <1e-5\n",
       "ingot_r: 2                  -4.45   4.25978  -1.04466   0.3364\n",
       "ingot_r: 3                    6.5   4.25978    1.5259   0.1779\n",
       "ingot_r: 4                   0.65   4.25978   0.15259   0.8837\n",
       "ingot_r: 5                   1.65   4.25978  0.387344   0.7119\n",
       "ingot_r: 6                   -2.3   4.25978 -0.539934   0.6087\n",
       "ingot_r: 7                    4.9   4.25978   1.15029   0.2938\n",
       "metal_n: 1 & ingot_r: 2      4.95   7.37815    0.6709   0.5273\n",
       "metal_n: 1 & ingot_r: 3       2.5   7.37815  0.338838   0.7463\n",
       "metal_n: 1 & ingot_r: 4      5.05   7.37815  0.684453   0.5192\n",
       "metal_n: 1 & ingot_r: 5      4.45   7.37815  0.603132   0.5685\n",
       "metal_n: 1 & ingot_r: 6       1.1   7.37815  0.149089   0.8864\n",
       "metal_n: 1 & ingot_r: 7       3.7   7.37815  0.501481   0.6339\n"
      ]
     },
     "execution_count": 7,
     "metadata": {},
     "output_type": "execute_result"
    }
   ],
   "source": [
    "m=lm(y ~ -1 + metal_c+ metal_n + ingot_r +metal_n&ingot_r, dfd)"
   ]
  },
  {
   "cell_type": "markdown",
   "metadata": {},
   "source": [
    "Dummy Interaction"
   ]
  },
  {
   "cell_type": "code",
   "execution_count": 15,
   "metadata": {},
   "outputs": [
    {
     "data": {
      "text/plain": [
       "DataFrames.DataFrameRegressionModel{GLM.LinearModel{GLM.LmResp{Array{Float64,1}},GLM.DensePredQR{Float64}},Array{Float64,2}}\n",
       "\n",
       "Formula: y ~ metal_c + metal_n + ingot_r + inter1\n",
       "\n",
       "Coefficients:\n",
       "            Estimate Std.Error   t value Pr(>|t|)\n",
       "metal_c     -5.71429   2.27695  -2.50963   0.0459\n",
       "metal_n: 0   74.9071   3.22009   23.2624    <1e-6\n",
       "metal_n: 1      67.0   4.25978   15.7285    <1e-5\n",
       "ingot_r: 2     -4.45   4.25978  -1.04466   0.3364\n",
       "ingot_r: 3       6.5   4.25978    1.5259   0.1779\n",
       "ingot_r: 4      0.65   4.25978   0.15259   0.8837\n",
       "ingot_r: 5      1.65   4.25978  0.387344   0.7119\n",
       "ingot_r: 6      -2.3   4.25978 -0.539934   0.6087\n",
       "ingot_r: 7       4.9   4.25978   1.15029   0.2938\n",
       "inter1: 2       4.95   7.37815    0.6709   0.5273\n",
       "inter1: 3        2.5   7.37815  0.338838   0.7463\n",
       "inter1: 4       5.05   7.37815  0.684453   0.5192\n",
       "inter1: 5       4.45   7.37815  0.603132   0.5685\n",
       "inter1: 6        1.1   7.37815  0.149089   0.8864\n",
       "inter1: 7        3.7   7.37815  0.501481   0.6339\n"
      ]
     },
     "execution_count": 15,
     "metadata": {},
     "output_type": "execute_result"
    }
   ],
   "source": [
    "m=lm(y ~ -1 + metal_c+ metal_n + ingot_r + inter1, dfd)"
   ]
  },
  {
   "cell_type": "code",
   "execution_count": null,
   "metadata": {},
   "outputs": [],
   "source": []
  },
  {
   "cell_type": "markdown",
   "metadata": {},
   "source": [
    "Interaction of Categorical and Continuious"
   ]
  },
  {
   "cell_type": "code",
   "execution_count": 18,
   "metadata": {},
   "outputs": [],
   "source": [
    "dfd[:metal_n] = Array(dfd[:metal_n]);"
   ]
  },
  {
   "cell_type": "code",
   "execution_count": 19,
   "metadata": {},
   "outputs": [
    {
     "data": {
      "text/plain": [
       "DataFrames.DataFrameRegressionModel{GLM.LinearModel{GLM.LmResp{Array{Float64,1}},GLM.DensePredQR{Float64}},Array{Float64,2}}\n",
       "\n",
       "Formula: y ~ metal_c + metal_n + ingot_r + metal_n & ingot_r\n",
       "\n",
       "Coefficients:\n",
       "                      Estimate Std.Error  t value Pr(>|t|)\n",
       "metal_c               -5.71429   2.27695 -2.50963   0.0459\n",
       "metal_n               -7.90714   5.33992 -1.48076   0.1892\n",
       "ingot_r: 1             74.9071   3.22009  23.2624    <1e-6\n",
       "ingot_r: 2             70.4571   3.22009  21.8805    <1e-6\n",
       "ingot_r: 3             81.4071   3.22009   25.281    <1e-6\n",
       "ingot_r: 4             75.5571   3.22009  23.4643    <1e-6\n",
       "ingot_r: 5             76.5571   3.22009  23.7748    <1e-6\n",
       "ingot_r: 6             72.6071   3.22009  22.5482    <1e-6\n",
       "ingot_r: 7             79.8071   3.22009  24.7841    <1e-6\n",
       "metal_n & ingot_r: 2      4.95   7.37815   0.6709   0.5273\n",
       "metal_n & ingot_r: 3       2.5   7.37815 0.338838   0.7463\n",
       "metal_n & ingot_r: 4      5.05   7.37815 0.684453   0.5192\n",
       "metal_n & ingot_r: 5      4.45   7.37815 0.603132   0.5685\n",
       "metal_n & ingot_r: 6       1.1   7.37815 0.149089   0.8864\n",
       "metal_n & ingot_r: 7       3.7   7.37815 0.501481   0.6339\n"
      ]
     },
     "execution_count": 19,
     "metadata": {},
     "output_type": "execute_result"
    }
   ],
   "source": [
    "m=lm(y ~ -1 + metal_c+ metal_n + ingot_r +metal_n&ingot_r, dfd)"
   ]
  },
  {
   "cell_type": "code",
   "execution_count": null,
   "metadata": {},
   "outputs": [],
   "source": [
    "TBD - Figure out how to with Dummy var"
   ]
  }
 ],
 "metadata": {
  "kernelspec": {
   "display_name": "Julia 0.5.0",
   "language": "julia",
   "name": "julia-0.5"
  },
  "language_info": {
   "file_extension": ".jl",
   "mimetype": "application/julia",
   "name": "julia",
   "version": "0.5.0"
  }
 },
 "nbformat": 4,
 "nbformat_minor": 1
}
