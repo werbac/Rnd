{
 "cells": [
  {
   "cell_type": "code",
   "execution_count": null,
   "metadata": {},
   "outputs": [],
   "source": [
    "dfd=DataFrame(y=rand([\"red\",\"green\",\"blue\"],1000000), x1=rand(Normal(2.765, 0.45332),1000000),x2=rand(Normal(3.9982,1.2754),1000000),x3=rand(Normal(27.8876, 2.754)));\n",
    "\n",
    "dfd=DataFrame(y=rand(collect(0.00:0.01:25.0),1000000), x1=rand(Normal(2.765, 0.45332),1000000),x2=rand(Normal(3.9982,1.2754),1000000),x3=rand(Normal(27.8876, 2.754)));\n",
    "\n",
    "dfd=DataFrame(y=rand(collect(0:1:25),1000000), x1=rand(Normal(2.765, 0.45332),1000000),x2=rand(Normal(3.9982,1.2754),1000000),x3=rand(Normal(27.8876, 2.754)));\n",
    "\n",
    "dfd=DataFrame(y=rand(collect(0:1:25),1000000), x1=rand(collect(0.00:0.01:25.0),1000000),x2=rand(collect(0.00:0.01:25.0),1000000),x3=rand(collect(0.00:0.01:25.0),1000000)  );\n",
    "\n",
    "\n",
    "dfd=DataFrame(y=rand(collect(0:1:25),10), x1=rand(collect(0.00:0.01:25.0),10),x2=rand(collect(0.00:0.01:25.0),10),x3=rand(collect(0.00:0.01:25.0),10)  )\n",
    "\n",
    "#dfd[:y] = pool(dfd[:y]);\n"
   ]
  },
  {
   "cell_type": "code",
   "execution_count": null,
   "metadata": {},
   "outputs": [],
   "source": [
    "dfd=DataFrame(y=rand(collect(0:1:25),10), x1=rand(collect(0.00:0.01:25.0),10),x2=rand(collect(0.00:0.01:25.0),10),x3=rand(collect(0.00:0.01:25.0),10)  )"
   ]
  },
  {
   "cell_type": "code",
   "execution_count": null,
   "metadata": {},
   "outputs": [],
   "source": [
    "y = collect(1:100) + randn(100)*10;\n",
    "X = [1:100 (1:100)+randn(100)*5 (1:100)+randn(100)*10 (1:100)+randn(100)*20];"
   ]
  },
  {
   "cell_type": "code",
   "execution_count": null,
   "metadata": {},
   "outputs": [],
   "source": [
    "Dict(v=>log(mean( dfd[v]) )for v in [:y,:x1,:x2,:x3]  )"
   ]
  },
  {
   "cell_type": "code",
   "execution_count": null,
   "metadata": {},
   "outputs": [],
   "source": [
    "dfdocc = DataFrame(y=rand(collect(1:1:9),1000000)\n",
    "                   , x1=rand(collect(0.00:0.01:25.0),1000000)\n",
    "                   , x2=rand(collect(0.00:0.01:25.0),1000000)\n",
    "                   , x3=rand(collect(0.00:0.01:25.0),1000000) \n",
    "                   , r1=rand([\"red\",\"green\",\"blue\"],1000000) \n",
    "                  )"
   ]
  },
  {
   "cell_type": "code",
   "execution_count": null,
   "metadata": {},
   "outputs": [],
   "source": []
  },
  {
   "cell_type": "code",
   "execution_count": null,
   "metadata": {},
   "outputs": [],
   "source": []
  },
  {
   "cell_type": "code",
   "execution_count": null,
   "metadata": {},
   "outputs": [],
   "source": []
  }
 ],
 "metadata": {
  "kernelspec": {
   "display_name": "Julia 0.5.0",
   "language": "julia",
   "name": "julia-0.5"
  },
  "language_info": {
   "file_extension": ".jl",
   "mimetype": "application/julia",
   "name": "julia",
   "version": "0.5.0"
  }
 },
 "nbformat": 4,
 "nbformat_minor": 1
}
